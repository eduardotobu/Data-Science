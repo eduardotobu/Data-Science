{
 "cells": [
  {
   "cell_type": "markdown",
   "id": "bca42da4-bf72-483c-98f4-27754960e47f",
   "metadata": {},
   "source": [
    "# Leer todos los "
   ]
  },
  {
   "cell_type": "code",
   "execution_count": null,
   "id": "7cb2b540-c775-4233-893b-ff00b3be4a0d",
   "metadata": {},
   "outputs": [],
   "source": [
    "import pandas as pd\n",
    "import glob,os\n",
    "\n",
    "df_xls = pd.DataFrame() #Create Empty DataFrame\n",
    "os.chdir(\"/Users/eduardotorresburgos/Desktop/Edenred/\") #The directory where are our files.\n",
    "for file in glob.glob(\"*.xls\"): #Iterates over all files that ends in .xls\n",
    "    df = pd.read_excel(file, #File name\n",
    "                       usecols = 'A:AV', #Columns we want to consider\n",
    "                       skiprows = [0,1,2,3,4,5,6] #Rows we don't want to consider\n",
    "                      )\n",
    "    df_xls = df_xls.append(df, ignore_index=True) #Append dataframes\n",
    "df_xls"
   ]
  }
 ],
 "metadata": {
  "kernelspec": {
   "display_name": "Python 3 (ipykernel)",
   "language": "python",
   "name": "python3"
  },
  "language_info": {
   "codemirror_mode": {
    "name": "ipython",
    "version": 3
   },
   "file_extension": ".py",
   "mimetype": "text/x-python",
   "name": "python",
   "nbconvert_exporter": "python",
   "pygments_lexer": "ipython3",
   "version": "3.7.11"
  }
 },
 "nbformat": 4,
 "nbformat_minor": 5
}
