{
 "cells": [
  {
   "cell_type": "markdown",
   "metadata": {},
   "source": [
    "# Problem 4: Largest Palindrome Product."
   ]
  },
  {
   "cell_type": "markdown",
   "metadata": {},
   "source": [
    "A palindromic number reads the same both ways. The largest palindrome made from the product of two 2-digit numbers is 9009 = 91 × 99.\n",
    "\n",
    "Find the largest palindrome made from the product of two 3-digit numbers."
   ]
  },
  {
   "cell_type": "code",
   "execution_count": 3,
   "metadata": {},
   "outputs": [
    {
     "name": "stdout",
     "output_type": "stream",
     "text": [
      "Wall time: 614 ms\n"
     ]
    },
    {
     "data": {
      "text/plain": [
       "906609"
      ]
     },
     "execution_count": 3,
     "metadata": {},
     "output_type": "execute_result"
    }
   ],
   "source": [
    "%%time\n",
    "def largest_palindrome_product(digits):\n",
    "    '''Return the largest palindrome made from the product of two n-digit numbers'''\n",
    "    \n",
    "    a = range(int(digits * '9'),0,-1)\n",
    "    b = a \n",
    "    \n",
    "    product_list = []\n",
    "    for i in a:\n",
    "        for j in b:\n",
    "            product = i*j\n",
    "            product_list.append(product)\n",
    "            \n",
    "    product_list.sort(reverse = True)    \n",
    "    product_list = [x for x in product_list if str(x) == str(x)[::-1]]\n",
    "    \n",
    "    largest_palindrome = product_list[0]\n",
    "    \n",
    "    return largest_palindrome\n",
    "largest_palindrome_product(3)"
   ]
  }
 ],
 "metadata": {
  "kernelspec": {
   "display_name": "Python 3",
   "language": "python",
   "name": "python3"
  },
  "language_info": {
   "codemirror_mode": {
    "name": "ipython",
    "version": 3
   },
   "file_extension": ".py",
   "mimetype": "text/x-python",
   "name": "python",
   "nbconvert_exporter": "python",
   "pygments_lexer": "ipython3",
   "version": "3.8.5"
  }
 },
 "nbformat": 4,
 "nbformat_minor": 5
}
