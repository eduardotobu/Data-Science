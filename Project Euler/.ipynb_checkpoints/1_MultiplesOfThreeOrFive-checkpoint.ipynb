{
 "cells": [
  {
   "cell_type": "markdown",
   "id": "e2aa579b-4dac-4081-b6d7-82d46dab2c82",
   "metadata": {
    "tags": []
   },
   "source": [
    "# Problem 1: Multiples of 3 or 5.\n",
    "If we list all the natural numbers below 10 that are multiples of 3 or 5, we get 3, 5, 6 and 9. The sum of these multiples is 23.\n",
    "\n",
    "Find the sum of all the multiples of 3 or 5 below 1000."
   ]
  },
  {
   "cell_type": "code",
   "execution_count": 39,
   "id": "ecfeeafe-e31d-473d-b1a6-5f17930d28b5",
   "metadata": {},
   "outputs": [
    {
     "data": {
      "text/plain": [
       "233168"
      ]
     },
     "execution_count": 39,
     "metadata": {},
     "output_type": "execute_result"
    }
   ],
   "source": [
    "def multiples_3_5(max_n):\n",
    "    '''Get input from user and calculate sum of multiples of 3 or 5 between 0 and the input.'''\n",
    "    n_sum = 0\n",
    "    for n in range(max_n):  \n",
    "        if n % 3 == 0 or n % 5 == 0:\n",
    "            n_sum += n\n",
    "            \n",
    "    return n_sum\n",
    "    \n",
    "multiples_3_5(1000)"
   ]
  }
 ],
 "metadata": {
  "kernelspec": {
   "display_name": "Python 3 (ipykernel)",
   "language": "python",
   "name": "python3"
  },
  "language_info": {
   "codemirror_mode": {
    "name": "ipython",
    "version": 3
   },
   "file_extension": ".py",
   "mimetype": "text/x-python",
   "name": "python",
   "nbconvert_exporter": "python",
   "pygments_lexer": "ipython3",
   "version": "3.7.11"
  }
 },
 "nbformat": 4,
 "nbformat_minor": 5
}
