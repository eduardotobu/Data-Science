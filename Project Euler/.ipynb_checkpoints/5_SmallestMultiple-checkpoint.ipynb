{
 "cells": [
  {
   "cell_type": "markdown",
   "id": "208c918c-b7bd-4315-961c-acf9fc8c2e1c",
   "metadata": {},
   "source": [
    "# Problem 3: Largest Prime Factor."
   ]
  },
  {
   "cell_type": "markdown",
   "id": "1d32d3ff-d653-410c-82aa-de28560246e3",
   "metadata": {},
   "source": [
    "The prime factors of 13195 are 5, 7, 13 and 29.\n",
    "\n",
    "What is the largest prime factor of the number 600851475143?"
   ]
  },
  {
   "cell_type": "code",
   "execution_count": 32,
   "id": "ff5485c6-aad8-4ed4-821e-3b97e36cbbb1",
   "metadata": {},
   "outputs": [
    {
     "name": "stdout",
     "output_type": "stream",
     "text": [
      "CPU times: user 1.62 ms, sys: 35 µs, total: 1.65 ms\n",
      "Wall time: 1.69 ms\n"
     ]
    },
    {
     "data": {
      "text/plain": [
       "6857"
      ]
     },
     "execution_count": 32,
     "metadata": {},
     "output_type": "execute_result"
    }
   ],
   "source": [
    "%%time\n",
    "def largest_prime_factor(n_max):\n",
    "    '''Return the largest prime factor of a number'''\n",
    "    n = 2\n",
    "    p_factor_div = 0\n",
    "    while n_max != 1: #Last iteration n is the largest prime factor.\n",
    "        while n_max % n != 0: #Find the lowest prime factor for every iteration.\n",
    "            n +=1\n",
    "        n_max = n_max/n\n",
    "    return n\n",
    "\n",
    "largest_prime_factor(600851475143)"
   ]
  },
  {
   "cell_type": "markdown",
   "id": "f42d8581-00fc-40dc-850a-c4a7ab472396",
   "metadata": {},
   "source": [
    "source: https://www.soluciones.lat/Factores-primos-de-600851475143"
   ]
  }
 ],
 "metadata": {
  "kernelspec": {
   "display_name": "Python 3 (ipykernel)",
   "language": "python",
   "name": "python3"
  },
  "language_info": {
   "codemirror_mode": {
    "name": "ipython",
    "version": 3
   },
   "file_extension": ".py",
   "mimetype": "text/x-python",
   "name": "python",
   "nbconvert_exporter": "python",
   "pygments_lexer": "ipython3",
   "version": "3.7.11"
  }
 },
 "nbformat": 4,
 "nbformat_minor": 5
}
